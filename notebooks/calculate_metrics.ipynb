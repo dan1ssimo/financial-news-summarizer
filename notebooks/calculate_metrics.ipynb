{
 "cells": [
  {
   "cell_type": "markdown",
   "metadata": {},
   "source": [
    "I'm using GPT-4-mini to generate reference summaries (ground_truth). \n",
    "\n",
    "This is an important nuance. Essentially, i'll be measuring how well Qwen-1.7B mimics GPT-4-mini's style and content, rather than evaluating its absolute summarization capability.\n",
    "\n",
    "Looks like it necessarily bad, it's just something to keep in mind when interpreting results."
   ]
  },
  {
   "cell_type": "markdown",
   "metadata": {},
   "source": [
    "---"
   ]
  },
  {
   "cell_type": "markdown",
   "metadata": {},
   "source": [
    "#### Lexical Metric: **ROUGE**\n",
    "\n",
    "This metric measures the overlap of n-grams (word sequences) between generated and reference texts.\n",
    "\n",
    "- ROUGE-1: Unigram overlap (single words). Indicates how well key terms are preserved.\n",
    "- ROUGE-2: Bigram overlap (word pairs). Evaluates retention of short phrases.\n",
    "- ROUGE-L: Based on the Longest Common Subsequence (LCS). Assesses structural similarity of sentences."
   ]
  },
  {
   "cell_type": "code",
   "execution_count": 1,
   "metadata": {},
   "outputs": [
    {
     "name": "stdout",
     "output_type": "stream",
     "text": [
      "Collecting evaluate\n",
      "  Downloading evaluate-0.4.4-py3-none-any.whl.metadata (9.5 kB)\n",
      "Collecting rouge_score\n",
      "  Downloading rouge_score-0.1.2.tar.gz (17 kB)\n",
      "  Installing build dependencies ... \u001b[?25ldone\n",
      "\u001b[?25h  Getting requirements to build wheel ... \u001b[?25ldone\n",
      "\u001b[?25h  Preparing metadata (pyproject.toml) ... \u001b[?25ldone\n",
      "\u001b[?25hRequirement already satisfied: transformers in /Users/danildorofeev/Desktop/financial-news-summarizer/venv/lib/python3.11/site-packages (4.52.4)\n",
      "Requirement already satisfied: torch in /Users/danildorofeev/Desktop/financial-news-summarizer/venv/lib/python3.11/site-packages (2.7.1)\n",
      "Requirement already satisfied: datasets>=2.0.0 in /Users/danildorofeev/Desktop/financial-news-summarizer/venv/lib/python3.11/site-packages (from evaluate) (3.6.0)\n",
      "Requirement already satisfied: numpy>=1.17 in /Users/danildorofeev/Desktop/financial-news-summarizer/venv/lib/python3.11/site-packages (from evaluate) (2.3.1)\n",
      "Requirement already satisfied: dill in /Users/danildorofeev/Desktop/financial-news-summarizer/venv/lib/python3.11/site-packages (from evaluate) (0.3.8)\n",
      "Requirement already satisfied: pandas in /Users/danildorofeev/Desktop/financial-news-summarizer/venv/lib/python3.11/site-packages (from evaluate) (2.3.0)\n",
      "Requirement already satisfied: requests>=2.19.0 in /Users/danildorofeev/Desktop/financial-news-summarizer/venv/lib/python3.11/site-packages (from evaluate) (2.32.4)\n",
      "Requirement already satisfied: tqdm>=4.62.1 in /Users/danildorofeev/Desktop/financial-news-summarizer/venv/lib/python3.11/site-packages (from evaluate) (4.67.1)\n",
      "Requirement already satisfied: xxhash in /Users/danildorofeev/Desktop/financial-news-summarizer/venv/lib/python3.11/site-packages (from evaluate) (3.5.0)\n",
      "Requirement already satisfied: multiprocess in /Users/danildorofeev/Desktop/financial-news-summarizer/venv/lib/python3.11/site-packages (from evaluate) (0.70.16)\n",
      "Requirement already satisfied: fsspec>=2021.05.0 in /Users/danildorofeev/Desktop/financial-news-summarizer/venv/lib/python3.11/site-packages (from fsspec[http]>=2021.05.0->evaluate) (2025.3.0)\n",
      "Requirement already satisfied: huggingface-hub>=0.7.0 in /Users/danildorofeev/Desktop/financial-news-summarizer/venv/lib/python3.11/site-packages (from evaluate) (0.33.0)\n",
      "Requirement already satisfied: packaging in /Users/danildorofeev/Desktop/financial-news-summarizer/venv/lib/python3.11/site-packages (from evaluate) (25.0)\n",
      "Collecting absl-py (from rouge_score)\n",
      "  Downloading absl_py-2.3.0-py3-none-any.whl.metadata (2.4 kB)\n",
      "Requirement already satisfied: nltk in /Users/danildorofeev/Desktop/financial-news-summarizer/venv/lib/python3.11/site-packages (from rouge_score) (3.9.1)\n",
      "Requirement already satisfied: six>=1.14.0 in /Users/danildorofeev/Desktop/financial-news-summarizer/venv/lib/python3.11/site-packages (from rouge_score) (1.17.0)\n",
      "Requirement already satisfied: filelock in /Users/danildorofeev/Desktop/financial-news-summarizer/venv/lib/python3.11/site-packages (from transformers) (3.18.0)\n",
      "Requirement already satisfied: pyyaml>=5.1 in /Users/danildorofeev/Desktop/financial-news-summarizer/venv/lib/python3.11/site-packages (from transformers) (6.0.2)\n",
      "Requirement already satisfied: regex!=2019.12.17 in /Users/danildorofeev/Desktop/financial-news-summarizer/venv/lib/python3.11/site-packages (from transformers) (2024.11.6)\n",
      "Requirement already satisfied: tokenizers<0.22,>=0.21 in /Users/danildorofeev/Desktop/financial-news-summarizer/venv/lib/python3.11/site-packages (from transformers) (0.21.1)\n",
      "Requirement already satisfied: safetensors>=0.4.3 in /Users/danildorofeev/Desktop/financial-news-summarizer/venv/lib/python3.11/site-packages (from transformers) (0.5.3)\n",
      "Requirement already satisfied: typing-extensions>=4.10.0 in /Users/danildorofeev/Desktop/financial-news-summarizer/venv/lib/python3.11/site-packages (from torch) (4.14.0)\n",
      "Requirement already satisfied: sympy>=1.13.3 in /Users/danildorofeev/Desktop/financial-news-summarizer/venv/lib/python3.11/site-packages (from torch) (1.14.0)\n",
      "Requirement already satisfied: networkx in /Users/danildorofeev/Desktop/financial-news-summarizer/venv/lib/python3.11/site-packages (from torch) (3.5)\n",
      "Requirement already satisfied: jinja2 in /Users/danildorofeev/Desktop/financial-news-summarizer/venv/lib/python3.11/site-packages (from torch) (3.1.6)\n",
      "Requirement already satisfied: pyarrow>=15.0.0 in /Users/danildorofeev/Desktop/financial-news-summarizer/venv/lib/python3.11/site-packages (from datasets>=2.0.0->evaluate) (20.0.0)\n",
      "Requirement already satisfied: aiohttp!=4.0.0a0,!=4.0.0a1 in /Users/danildorofeev/Desktop/financial-news-summarizer/venv/lib/python3.11/site-packages (from fsspec[http]>=2021.05.0->evaluate) (3.12.13)\n",
      "Requirement already satisfied: hf-xet<2.0.0,>=1.1.2 in /Users/danildorofeev/Desktop/financial-news-summarizer/venv/lib/python3.11/site-packages (from huggingface-hub>=0.7.0->evaluate) (1.1.5)\n",
      "Requirement already satisfied: charset_normalizer<4,>=2 in /Users/danildorofeev/Desktop/financial-news-summarizer/venv/lib/python3.11/site-packages (from requests>=2.19.0->evaluate) (3.4.2)\n",
      "Requirement already satisfied: idna<4,>=2.5 in /Users/danildorofeev/Desktop/financial-news-summarizer/venv/lib/python3.11/site-packages (from requests>=2.19.0->evaluate) (3.10)\n",
      "Requirement already satisfied: urllib3<3,>=1.21.1 in /Users/danildorofeev/Desktop/financial-news-summarizer/venv/lib/python3.11/site-packages (from requests>=2.19.0->evaluate) (2.5.0)\n",
      "Requirement already satisfied: certifi>=2017.4.17 in /Users/danildorofeev/Desktop/financial-news-summarizer/venv/lib/python3.11/site-packages (from requests>=2.19.0->evaluate) (2025.6.15)\n",
      "Requirement already satisfied: mpmath<1.4,>=1.1.0 in /Users/danildorofeev/Desktop/financial-news-summarizer/venv/lib/python3.11/site-packages (from sympy>=1.13.3->torch) (1.3.0)\n",
      "Requirement already satisfied: MarkupSafe>=2.0 in /Users/danildorofeev/Desktop/financial-news-summarizer/venv/lib/python3.11/site-packages (from jinja2->torch) (3.0.2)\n",
      "Requirement already satisfied: click in /Users/danildorofeev/Desktop/financial-news-summarizer/venv/lib/python3.11/site-packages (from nltk->rouge_score) (8.2.1)\n",
      "Requirement already satisfied: joblib in /Users/danildorofeev/Desktop/financial-news-summarizer/venv/lib/python3.11/site-packages (from nltk->rouge_score) (1.5.1)\n",
      "Requirement already satisfied: python-dateutil>=2.8.2 in /Users/danildorofeev/Desktop/financial-news-summarizer/venv/lib/python3.11/site-packages (from pandas->evaluate) (2.9.0.post0)\n",
      "Requirement already satisfied: pytz>=2020.1 in /Users/danildorofeev/Desktop/financial-news-summarizer/venv/lib/python3.11/site-packages (from pandas->evaluate) (2025.2)\n",
      "Requirement already satisfied: tzdata>=2022.7 in /Users/danildorofeev/Desktop/financial-news-summarizer/venv/lib/python3.11/site-packages (from pandas->evaluate) (2025.2)\n",
      "Requirement already satisfied: aiohappyeyeballs>=2.5.0 in /Users/danildorofeev/Desktop/financial-news-summarizer/venv/lib/python3.11/site-packages (from aiohttp!=4.0.0a0,!=4.0.0a1->fsspec[http]>=2021.05.0->evaluate) (2.6.1)\n",
      "Requirement already satisfied: aiosignal>=1.1.2 in /Users/danildorofeev/Desktop/financial-news-summarizer/venv/lib/python3.11/site-packages (from aiohttp!=4.0.0a0,!=4.0.0a1->fsspec[http]>=2021.05.0->evaluate) (1.3.2)\n",
      "Requirement already satisfied: attrs>=17.3.0 in /Users/danildorofeev/Desktop/financial-news-summarizer/venv/lib/python3.11/site-packages (from aiohttp!=4.0.0a0,!=4.0.0a1->fsspec[http]>=2021.05.0->evaluate) (25.3.0)\n",
      "Requirement already satisfied: frozenlist>=1.1.1 in /Users/danildorofeev/Desktop/financial-news-summarizer/venv/lib/python3.11/site-packages (from aiohttp!=4.0.0a0,!=4.0.0a1->fsspec[http]>=2021.05.0->evaluate) (1.7.0)\n",
      "Requirement already satisfied: multidict<7.0,>=4.5 in /Users/danildorofeev/Desktop/financial-news-summarizer/venv/lib/python3.11/site-packages (from aiohttp!=4.0.0a0,!=4.0.0a1->fsspec[http]>=2021.05.0->evaluate) (6.4.4)\n",
      "Requirement already satisfied: propcache>=0.2.0 in /Users/danildorofeev/Desktop/financial-news-summarizer/venv/lib/python3.11/site-packages (from aiohttp!=4.0.0a0,!=4.0.0a1->fsspec[http]>=2021.05.0->evaluate) (0.3.2)\n",
      "Requirement already satisfied: yarl<2.0,>=1.17.0 in /Users/danildorofeev/Desktop/financial-news-summarizer/venv/lib/python3.11/site-packages (from aiohttp!=4.0.0a0,!=4.0.0a1->fsspec[http]>=2021.05.0->evaluate) (1.20.1)\n",
      "Downloading evaluate-0.4.4-py3-none-any.whl (84 kB)\n",
      "Downloading absl_py-2.3.0-py3-none-any.whl (135 kB)\n",
      "Building wheels for collected packages: rouge_score\n",
      "  Building wheel for rouge_score (pyproject.toml) ... \u001b[?25ldone\n",
      "\u001b[?25h  Created wheel for rouge_score: filename=rouge_score-0.1.2-py3-none-any.whl size=24987 sha256=955968762dd9753e3deaafce8da72d783fbf4fb1553441073a6f42b0e024de2a\n",
      "  Stored in directory: /Users/danildorofeev/Library/Caches/pip/wheels/1e/19/43/8a442dc83660ca25e163e1bd1f89919284ab0d0c1475475148\n",
      "Successfully built rouge_score\n",
      "Installing collected packages: absl-py, rouge_score, evaluate\n",
      "Successfully installed absl-py-2.3.0 evaluate-0.4.4 rouge_score-0.1.2\n",
      "\n",
      "\u001b[1m[\u001b[0m\u001b[34;49mnotice\u001b[0m\u001b[1;39;49m]\u001b[0m\u001b[39;49m A new release of pip is available: \u001b[0m\u001b[31;49m24.3.1\u001b[0m\u001b[39;49m -> \u001b[0m\u001b[32;49m25.1.1\u001b[0m\n",
      "\u001b[1m[\u001b[0m\u001b[34;49mnotice\u001b[0m\u001b[1;39;49m]\u001b[0m\u001b[39;49m To update, run: \u001b[0m\u001b[32;49mpip install --upgrade pip\u001b[0m\n"
     ]
    }
   ],
   "source": [
    "!pip install evaluate rouge_score transformers torch"
   ]
  },
  {
   "cell_type": "code",
   "execution_count": 4,
   "metadata": {},
   "outputs": [],
   "source": [
    "import evaluate\n",
    "import pandas as pd\n",
    "\n",
    "# Load dataset\n",
    "data = pd.read_csv('/Users/danildorofeev/Desktop/financial-news-summarizer/data/dataset/ready_dataset.csv')\n",
    "\n",
    "# Extract text lists\n",
    "ground_truths = data[\"ground_truth\"].tolist()\n",
    "predictions_zero_shot = data[\"prediction_zero_shot\"].str.replace(\"<think>\\n\\n</think>\\n\\n\", \"\").tolist()\n",
    "predictions_few_shot = data[\"prediction_few_shot\"].str.replace(\"<think>\\n\\n</think>\\n\\n\", \"\").tolist()"
   ]
  },
  {
   "cell_type": "code",
   "execution_count": 6,
   "metadata": {},
   "outputs": [
    {
     "name": "stdout",
     "output_type": "stream",
     "text": [
      "--- ROUGE Scores ---\n",
      "\n",
      "Zero-shot:\n",
      "rouge1: 53.54\n",
      "rouge2: 26.65\n",
      "rougeL: 34.81\n",
      "rougeLsum: 50.28\n",
      "\n",
      "Few-shot:\n",
      "rouge1: 53.00\n",
      "rouge2: 27.51\n",
      "rougeL: 34.30\n",
      "rougeLsum: 49.85\n"
     ]
    }
   ],
   "source": [
    "# Load metric\n",
    "rouge_metric = evaluate.load('rouge')\n",
    "\n",
    "# Calculate for zero-shot\n",
    "results_zero_shot_rouge = rouge_metric.compute(\n",
    "    predictions=predictions_zero_shot,\n",
    "    references=ground_truths\n",
    ")\n",
    "\n",
    "# Calculate for few-shot\n",
    "results_few_shot_rouge = rouge_metric.compute(\n",
    "    predictions=predictions_few_shot,\n",
    "    references=ground_truths\n",
    ")\n",
    "\n",
    "print(\"--- ROUGE Scores ---\")\n",
    "print(\"\\nZero-shot:\")\n",
    "\n",
    "for key, value in results_zero_shot_rouge.items():\n",
    "    print(f\"{key}: {value*100:.2f}\") # values multiplied by 100 for readability\n",
    "\n",
    "print(\"\\nFew-shot:\")\n",
    "for key, value in results_few_shot_rouge.items():\n",
    "    print(f\"{key}: {value*100:.2f}\")"
   ]
  },
  {
   "cell_type": "markdown",
   "metadata": {},
   "source": [
    "**Summary:** ROUGE metrics suggest that few-shot learning did not yield significant or unambiguous improvements in summary quality. The results for both approaches are nearly identical, with minor fluctuations (0.5-0.8 points) likely falling within the margin of error for a 250-example sample.\n",
    "\n",
    "\n",
    "**ROUGE-1 (unigram overlap)**\n",
    "Zero-shot: 53.54\n",
    "Few-shot: 53.00\n",
    "Interpretation: The zero-shot version marginally outperforms in reproducing individual keywords from reference summaries. The 0.5-point difference is negligible.\n",
    "\n",
    "**ROUGE-2 (bigram overlap)**\n",
    "Zero-shot: 26.65\n",
    "Few-shot: 27.51\n",
    "Interpretation: Few-shot shows slight improvement here—the most notable finding. This suggests examples helped the model generate more accurate short phrases (e.g., \"rocket launch\" vs. disjointed mentions of \"launch\" and \"rocket\"). While modest, this is a positive signal.\n",
    "\n",
    "**ROUGE-L (sentence structure similarity)**\n",
    "Zero-shot: 34.81\n",
    "Few-shot: 34.30\n",
    "Interpretation: Zero-shot marginally better preserves reference-like sentence structure. Again, the difference is trivial."
   ]
  },
  {
   "cell_type": "markdown",
   "metadata": {},
   "source": [
    "#### Semantic Metric: **BERTScore**\n",
    "\n",
    "While ROUGE fails to capture synonyms (e.g., \"launch\" vs. \"start\"), BERTScore addresses this by comparing token embeddings from generated and reference texts. It evaluates semantic similarity."
   ]
  },
  {
   "cell_type": "code",
   "execution_count": 5,
   "metadata": {},
   "outputs": [
    {
     "name": "stdout",
     "output_type": "stream",
     "text": [
      "Requirement already satisfied: evaluate in /Users/danildorofeev/Desktop/financial-news-summarizer/venv/lib/python3.11/site-packages (0.4.4)\n",
      "Collecting bert_score\n",
      "  Downloading bert_score-0.3.13-py3-none-any.whl.metadata (15 kB)\n",
      "Collecting sentence_transformers\n",
      "  Using cached sentence_transformers-4.1.0-py3-none-any.whl.metadata (13 kB)\n",
      "Requirement already satisfied: datasets>=2.0.0 in /Users/danildorofeev/Desktop/financial-news-summarizer/venv/lib/python3.11/site-packages (from evaluate) (3.6.0)\n",
      "Requirement already satisfied: numpy>=1.17 in /Users/danildorofeev/Desktop/financial-news-summarizer/venv/lib/python3.11/site-packages (from evaluate) (2.3.1)\n",
      "Requirement already satisfied: dill in /Users/danildorofeev/Desktop/financial-news-summarizer/venv/lib/python3.11/site-packages (from evaluate) (0.3.8)\n",
      "Requirement already satisfied: pandas in /Users/danildorofeev/Desktop/financial-news-summarizer/venv/lib/python3.11/site-packages (from evaluate) (2.3.0)\n",
      "Requirement already satisfied: requests>=2.19.0 in /Users/danildorofeev/Desktop/financial-news-summarizer/venv/lib/python3.11/site-packages (from evaluate) (2.32.4)\n",
      "Requirement already satisfied: tqdm>=4.62.1 in /Users/danildorofeev/Desktop/financial-news-summarizer/venv/lib/python3.11/site-packages (from evaluate) (4.67.1)\n",
      "Requirement already satisfied: xxhash in /Users/danildorofeev/Desktop/financial-news-summarizer/venv/lib/python3.11/site-packages (from evaluate) (3.5.0)\n",
      "Requirement already satisfied: multiprocess in /Users/danildorofeev/Desktop/financial-news-summarizer/venv/lib/python3.11/site-packages (from evaluate) (0.70.16)\n",
      "Requirement already satisfied: fsspec>=2021.05.0 in /Users/danildorofeev/Desktop/financial-news-summarizer/venv/lib/python3.11/site-packages (from fsspec[http]>=2021.05.0->evaluate) (2025.3.0)\n",
      "Requirement already satisfied: huggingface-hub>=0.7.0 in /Users/danildorofeev/Desktop/financial-news-summarizer/venv/lib/python3.11/site-packages (from evaluate) (0.33.0)\n",
      "Requirement already satisfied: packaging in /Users/danildorofeev/Desktop/financial-news-summarizer/venv/lib/python3.11/site-packages (from evaluate) (25.0)\n",
      "Requirement already satisfied: torch>=1.0.0 in /Users/danildorofeev/Desktop/financial-news-summarizer/venv/lib/python3.11/site-packages (from bert_score) (2.7.1)\n",
      "Requirement already satisfied: transformers>=3.0.0 in /Users/danildorofeev/Desktop/financial-news-summarizer/venv/lib/python3.11/site-packages (from bert_score) (4.52.4)\n",
      "Requirement already satisfied: matplotlib in /Users/danildorofeev/Desktop/financial-news-summarizer/venv/lib/python3.11/site-packages (from bert_score) (3.10.3)\n",
      "Collecting scikit-learn (from sentence_transformers)\n",
      "  Using cached scikit_learn-1.7.0-cp311-cp311-macosx_12_0_arm64.whl.metadata (31 kB)\n",
      "Collecting scipy (from sentence_transformers)\n",
      "  Downloading scipy-1.16.0-cp311-cp311-macosx_14_0_arm64.whl.metadata (61 kB)\n",
      "Requirement already satisfied: Pillow in /Users/danildorofeev/Desktop/financial-news-summarizer/venv/lib/python3.11/site-packages (from sentence_transformers) (11.2.1)\n",
      "Requirement already satisfied: typing_extensions>=4.5.0 in /Users/danildorofeev/Desktop/financial-news-summarizer/venv/lib/python3.11/site-packages (from sentence_transformers) (4.14.0)\n",
      "Requirement already satisfied: filelock in /Users/danildorofeev/Desktop/financial-news-summarizer/venv/lib/python3.11/site-packages (from datasets>=2.0.0->evaluate) (3.18.0)\n",
      "Requirement already satisfied: pyarrow>=15.0.0 in /Users/danildorofeev/Desktop/financial-news-summarizer/venv/lib/python3.11/site-packages (from datasets>=2.0.0->evaluate) (20.0.0)\n",
      "Requirement already satisfied: pyyaml>=5.1 in /Users/danildorofeev/Desktop/financial-news-summarizer/venv/lib/python3.11/site-packages (from datasets>=2.0.0->evaluate) (6.0.2)\n",
      "Requirement already satisfied: aiohttp!=4.0.0a0,!=4.0.0a1 in /Users/danildorofeev/Desktop/financial-news-summarizer/venv/lib/python3.11/site-packages (from fsspec[http]>=2021.05.0->evaluate) (3.12.13)\n",
      "Requirement already satisfied: hf-xet<2.0.0,>=1.1.2 in /Users/danildorofeev/Desktop/financial-news-summarizer/venv/lib/python3.11/site-packages (from huggingface-hub>=0.7.0->evaluate) (1.1.5)\n",
      "Requirement already satisfied: python-dateutil>=2.8.2 in /Users/danildorofeev/Desktop/financial-news-summarizer/venv/lib/python3.11/site-packages (from pandas->evaluate) (2.9.0.post0)\n",
      "Requirement already satisfied: pytz>=2020.1 in /Users/danildorofeev/Desktop/financial-news-summarizer/venv/lib/python3.11/site-packages (from pandas->evaluate) (2025.2)\n",
      "Requirement already satisfied: tzdata>=2022.7 in /Users/danildorofeev/Desktop/financial-news-summarizer/venv/lib/python3.11/site-packages (from pandas->evaluate) (2025.2)\n",
      "Requirement already satisfied: charset_normalizer<4,>=2 in /Users/danildorofeev/Desktop/financial-news-summarizer/venv/lib/python3.11/site-packages (from requests>=2.19.0->evaluate) (3.4.2)\n",
      "Requirement already satisfied: idna<4,>=2.5 in /Users/danildorofeev/Desktop/financial-news-summarizer/venv/lib/python3.11/site-packages (from requests>=2.19.0->evaluate) (3.10)\n",
      "Requirement already satisfied: urllib3<3,>=1.21.1 in /Users/danildorofeev/Desktop/financial-news-summarizer/venv/lib/python3.11/site-packages (from requests>=2.19.0->evaluate) (2.5.0)\n",
      "Requirement already satisfied: certifi>=2017.4.17 in /Users/danildorofeev/Desktop/financial-news-summarizer/venv/lib/python3.11/site-packages (from requests>=2.19.0->evaluate) (2025.6.15)\n",
      "Requirement already satisfied: sympy>=1.13.3 in /Users/danildorofeev/Desktop/financial-news-summarizer/venv/lib/python3.11/site-packages (from torch>=1.0.0->bert_score) (1.14.0)\n",
      "Requirement already satisfied: networkx in /Users/danildorofeev/Desktop/financial-news-summarizer/venv/lib/python3.11/site-packages (from torch>=1.0.0->bert_score) (3.5)\n",
      "Requirement already satisfied: jinja2 in /Users/danildorofeev/Desktop/financial-news-summarizer/venv/lib/python3.11/site-packages (from torch>=1.0.0->bert_score) (3.1.6)\n",
      "Requirement already satisfied: regex!=2019.12.17 in /Users/danildorofeev/Desktop/financial-news-summarizer/venv/lib/python3.11/site-packages (from transformers>=3.0.0->bert_score) (2024.11.6)\n",
      "Requirement already satisfied: tokenizers<0.22,>=0.21 in /Users/danildorofeev/Desktop/financial-news-summarizer/venv/lib/python3.11/site-packages (from transformers>=3.0.0->bert_score) (0.21.1)\n",
      "Requirement already satisfied: safetensors>=0.4.3 in /Users/danildorofeev/Desktop/financial-news-summarizer/venv/lib/python3.11/site-packages (from transformers>=3.0.0->bert_score) (0.5.3)\n",
      "Requirement already satisfied: contourpy>=1.0.1 in /Users/danildorofeev/Desktop/financial-news-summarizer/venv/lib/python3.11/site-packages (from matplotlib->bert_score) (1.3.2)\n",
      "Requirement already satisfied: cycler>=0.10 in /Users/danildorofeev/Desktop/financial-news-summarizer/venv/lib/python3.11/site-packages (from matplotlib->bert_score) (0.12.1)\n",
      "Requirement already satisfied: fonttools>=4.22.0 in /Users/danildorofeev/Desktop/financial-news-summarizer/venv/lib/python3.11/site-packages (from matplotlib->bert_score) (4.58.4)\n",
      "Requirement already satisfied: kiwisolver>=1.3.1 in /Users/danildorofeev/Desktop/financial-news-summarizer/venv/lib/python3.11/site-packages (from matplotlib->bert_score) (1.4.8)\n",
      "Requirement already satisfied: pyparsing>=2.3.1 in /Users/danildorofeev/Desktop/financial-news-summarizer/venv/lib/python3.11/site-packages (from matplotlib->bert_score) (3.2.3)\n",
      "Requirement already satisfied: joblib>=1.2.0 in /Users/danildorofeev/Desktop/financial-news-summarizer/venv/lib/python3.11/site-packages (from scikit-learn->sentence_transformers) (1.5.1)\n",
      "Collecting threadpoolctl>=3.1.0 (from scikit-learn->sentence_transformers)\n",
      "  Using cached threadpoolctl-3.6.0-py3-none-any.whl.metadata (13 kB)\n",
      "Requirement already satisfied: aiohappyeyeballs>=2.5.0 in /Users/danildorofeev/Desktop/financial-news-summarizer/venv/lib/python3.11/site-packages (from aiohttp!=4.0.0a0,!=4.0.0a1->fsspec[http]>=2021.05.0->evaluate) (2.6.1)\n",
      "Requirement already satisfied: aiosignal>=1.1.2 in /Users/danildorofeev/Desktop/financial-news-summarizer/venv/lib/python3.11/site-packages (from aiohttp!=4.0.0a0,!=4.0.0a1->fsspec[http]>=2021.05.0->evaluate) (1.3.2)\n",
      "Requirement already satisfied: attrs>=17.3.0 in /Users/danildorofeev/Desktop/financial-news-summarizer/venv/lib/python3.11/site-packages (from aiohttp!=4.0.0a0,!=4.0.0a1->fsspec[http]>=2021.05.0->evaluate) (25.3.0)\n",
      "Requirement already satisfied: frozenlist>=1.1.1 in /Users/danildorofeev/Desktop/financial-news-summarizer/venv/lib/python3.11/site-packages (from aiohttp!=4.0.0a0,!=4.0.0a1->fsspec[http]>=2021.05.0->evaluate) (1.7.0)\n",
      "Requirement already satisfied: multidict<7.0,>=4.5 in /Users/danildorofeev/Desktop/financial-news-summarizer/venv/lib/python3.11/site-packages (from aiohttp!=4.0.0a0,!=4.0.0a1->fsspec[http]>=2021.05.0->evaluate) (6.4.4)\n",
      "Requirement already satisfied: propcache>=0.2.0 in /Users/danildorofeev/Desktop/financial-news-summarizer/venv/lib/python3.11/site-packages (from aiohttp!=4.0.0a0,!=4.0.0a1->fsspec[http]>=2021.05.0->evaluate) (0.3.2)\n",
      "Requirement already satisfied: yarl<2.0,>=1.17.0 in /Users/danildorofeev/Desktop/financial-news-summarizer/venv/lib/python3.11/site-packages (from aiohttp!=4.0.0a0,!=4.0.0a1->fsspec[http]>=2021.05.0->evaluate) (1.20.1)\n",
      "Requirement already satisfied: six>=1.5 in /Users/danildorofeev/Desktop/financial-news-summarizer/venv/lib/python3.11/site-packages (from python-dateutil>=2.8.2->pandas->evaluate) (1.17.0)\n",
      "Requirement already satisfied: mpmath<1.4,>=1.1.0 in /Users/danildorofeev/Desktop/financial-news-summarizer/venv/lib/python3.11/site-packages (from sympy>=1.13.3->torch>=1.0.0->bert_score) (1.3.0)\n",
      "Requirement already satisfied: MarkupSafe>=2.0 in /Users/danildorofeev/Desktop/financial-news-summarizer/venv/lib/python3.11/site-packages (from jinja2->torch>=1.0.0->bert_score) (3.0.2)\n",
      "Downloading bert_score-0.3.13-py3-none-any.whl (61 kB)\n",
      "Using cached sentence_transformers-4.1.0-py3-none-any.whl (345 kB)\n",
      "Using cached scikit_learn-1.7.0-cp311-cp311-macosx_12_0_arm64.whl (10.7 MB)\n",
      "Downloading scipy-1.16.0-cp311-cp311-macosx_14_0_arm64.whl (20.8 MB)\n",
      "\u001b[2K   \u001b[90m━━━━━━━━━━━━━━━━━━━━━━━━━━━━━━━━━━━━━━━━\u001b[0m \u001b[32m20.8/20.8 MB\u001b[0m \u001b[31m3.2 MB/s\u001b[0m eta \u001b[36m0:00:00\u001b[0m00:01\u001b[0m00:01\u001b[0m\n",
      "\u001b[?25hUsing cached threadpoolctl-3.6.0-py3-none-any.whl (18 kB)\n",
      "Installing collected packages: threadpoolctl, scipy, scikit-learn, sentence_transformers, bert_score\n",
      "Successfully installed bert_score-0.3.13 scikit-learn-1.7.0 scipy-1.16.0 sentence_transformers-4.1.0 threadpoolctl-3.6.0\n",
      "\n",
      "\u001b[1m[\u001b[0m\u001b[34;49mnotice\u001b[0m\u001b[1;39;49m]\u001b[0m\u001b[39;49m A new release of pip is available: \u001b[0m\u001b[31;49m24.3.1\u001b[0m\u001b[39;49m -> \u001b[0m\u001b[32;49m25.1.1\u001b[0m\n",
      "\u001b[1m[\u001b[0m\u001b[34;49mnotice\u001b[0m\u001b[1;39;49m]\u001b[0m\u001b[39;49m To update, run: \u001b[0m\u001b[32;49mpip install --upgrade pip\u001b[0m\n"
     ]
    }
   ],
   "source": [
    "!pip install evaluate bert_score sentence_transformers"
   ]
  },
  {
   "cell_type": "code",
   "execution_count": 7,
   "metadata": {},
   "outputs": [
    {
     "name": "stderr",
     "output_type": "stream",
     "text": [
      "Some weights of RobertaModel were not initialized from the model checkpoint at roberta-large and are newly initialized: ['pooler.dense.bias', 'pooler.dense.weight']\n",
      "You should probably TRAIN this model on a down-stream task to be able to use it for predictions and inference.\n"
     ]
    },
    {
     "name": "stdout",
     "output_type": "stream",
     "text": [
      "\n",
      "--- BERTScore (Average F1) ---\n",
      "Zero-shot: 90.02\n",
      "Few-shot:  89.69\n"
     ]
    }
   ],
   "source": [
    "import evaluate\n",
    "\n",
    "# Load metric\n",
    "bertscore_metric = evaluate.load(\"bertscore\")\n",
    "\n",
    "# Calculate for zero-shot\n",
    "results_zero_shot_bert = bertscore_metric.compute(\n",
    "    predictions=predictions_zero_shot,\n",
    "    references=ground_truths,\n",
    "    lang=\"en\",\n",
    "    device=\"mps\"\n",
    ")\n",
    "\n",
    "# Calculate for few-shot\n",
    "results_few_shot_bert = bertscore_metric.compute(\n",
    "    predictions=predictions_few_shot,\n",
    "    references=ground_truths,\n",
    "    lang=\"en\",\n",
    "    device=\"mps\"\n",
    ")\n",
    "\n",
    "# BERTScore returns Precision, Recall, F1(most interested)\n",
    "avg_f1_zero_shot = sum(results_zero_shot_bert['f1']) / len(results_zero_shot_bert['f1'])\n",
    "avg_f1_few_shot = sum(results_few_shot_bert['f1']) / len(results_few_shot_bert['f1'])\n",
    "\n",
    "print(\"\\n--- BERTScore (Average F1) ---\")\n",
    "print(f\"Zero-shot: {avg_f1_zero_shot*100:.2f}\")\n",
    "print(f\"Few-shot:  {avg_f1_few_shot*100:.2f}\")"
   ]
  },
  {
   "cell_type": "markdown",
   "metadata": {},
   "source": [
    "Actually, 0.33-point BERTScore difference (e.g., 90.02 vs. 89.69) on a 250-sample evaluation set is extremely small and likely not statistically significant."
   ]
  },
  {
   "cell_type": "markdown",
   "metadata": {},
   "source": [
    "**METEOR (Metric for Evaluation of Translation with Explicit Ordering)** evaluates both precision (n-gram matches) and recall (n-gram overlap), while accounting for word order in LLM outputs and reference texts. METEOR also leverages external linguistic databases like WordNet to incorporate synonyms. The final score is computed as the harmonic mean of precision and recall, with a penalty for word-order violations."
   ]
  },
  {
   "cell_type": "code",
   "execution_count": 13,
   "metadata": {},
   "outputs": [
    {
     "data": {
      "application/vnd.jupyter.widget-view+json": {
       "model_id": "62577355eaf744e1b0928ed4e22a1ff2",
       "version_major": 2,
       "version_minor": 0
      },
      "text/plain": [
       "  0%|          | 0/249 [00:00<?, ?it/s]"
      ]
     },
     "metadata": {},
     "output_type": "display_data"
    },
    {
     "ename": "TypeError",
     "evalue": "\"reference\" expects pre-tokenized reference (Iterable[str]): Headline: Morgan Stanley Cuts Apple Price Target Amid Demand Concerns\n\nCore Essence: Morgan Stanley lowered its price target for Apple (AAPL) to $236 from $253, citing weak smartphone demand in China, marking the third price cut for the company this week.\n\nKey Points:\n- The Event: Morgan Stanley announced a price target reduction for Apple, reflecting concerns over a slowing smartphone market in China.\n- Financial Metrics: Morgan Stanley's new price target for Apple is $236, down from $253. Apple's shares dropped over 2% following this announcement.\n- Market Reaction: Apple shares fell more than 2% amid the news of the price cut and overall market trends.\n- Key Quote or Context: Morgan Stanley noted that rising average selling prices and improved smartphone quality are lengthening replacement cycles, negatively impacting demand for new devices.\n- Outlook/Next Steps: Morgan Stanley indicated that revenues from wearables and services could mitigate the negative impact of declining iPhone demand.",
     "output_type": "error",
     "traceback": [
      "\u001b[31m---------------------------------------------------------------------------\u001b[39m",
      "\u001b[31mTypeError\u001b[39m                                 Traceback (most recent call last)",
      "\u001b[36mCell\u001b[39m\u001b[36m \u001b[39m\u001b[32mIn[13]\u001b[39m\u001b[32m, line 8\u001b[39m\n\u001b[32m      5\u001b[39m few_shot_scores = []\n\u001b[32m      7\u001b[39m \u001b[38;5;28;01mfor\u001b[39;00m pred, ref \u001b[38;5;129;01min\u001b[39;00m tqdm(\u001b[38;5;28mzip\u001b[39m(predictions_zero_shot, ground_truths), total=\u001b[38;5;28mlen\u001b[39m(predictions_zero_shot)):\n\u001b[32m----> \u001b[39m\u001b[32m8\u001b[39m     meteor_score_zero = \u001b[43mmeteor_score\u001b[49m\u001b[43m(\u001b[49m\u001b[43m[\u001b[49m\u001b[43mref\u001b[49m\u001b[43m]\u001b[49m\u001b[43m,\u001b[49m\u001b[43m \u001b[49m\u001b[43m[\u001b[49m\u001b[43mpred\u001b[49m\u001b[43m]\u001b[49m\u001b[43m)\u001b[49m\n\u001b[32m      9\u001b[39m     zero_shot_scores.append(meteor_score_zero)\n\u001b[32m     11\u001b[39m \u001b[38;5;28;01mfor\u001b[39;00m pred, ref \u001b[38;5;129;01min\u001b[39;00m tqdm(\u001b[38;5;28mzip\u001b[39m(predictions_few_shot, ground_truths), total=\u001b[38;5;28mlen\u001b[39m(predictions_few_shot)):\n",
      "\u001b[36mFile \u001b[39m\u001b[32m~/Desktop/financial-news-summarizer/venv/lib/python3.11/site-packages/nltk/translate/meteor_score.py:397\u001b[39m, in \u001b[36mmeteor_score\u001b[39m\u001b[34m(references, hypothesis, preprocess, stemmer, wordnet, alpha, beta, gamma)\u001b[39m\n\u001b[32m    347\u001b[39m \u001b[38;5;28;01mdef\u001b[39;00m\u001b[38;5;250m \u001b[39m\u001b[34mmeteor_score\u001b[39m(\n\u001b[32m    348\u001b[39m     references: Iterable[Iterable[\u001b[38;5;28mstr\u001b[39m]],\n\u001b[32m    349\u001b[39m     hypothesis: Iterable[\u001b[38;5;28mstr\u001b[39m],\n\u001b[32m   (...)\u001b[39m\u001b[32m    355\u001b[39m     gamma: \u001b[38;5;28mfloat\u001b[39m = \u001b[32m0.5\u001b[39m,\n\u001b[32m    356\u001b[39m ) -> \u001b[38;5;28mfloat\u001b[39m:\n\u001b[32m    357\u001b[39m \u001b[38;5;250m    \u001b[39m\u001b[33;03m\"\"\"\u001b[39;00m\n\u001b[32m    358\u001b[39m \u001b[33;03m    Calculates METEOR score for hypothesis with multiple references as\u001b[39;00m\n\u001b[32m    359\u001b[39m \u001b[33;03m    described in \"Meteor: An Automatic Metric for MT Evaluation with\u001b[39;00m\n\u001b[32m   (...)\u001b[39m\u001b[32m    395\u001b[39m \u001b[33;03m    :return: The sentence-level METEOR score.\u001b[39;00m\n\u001b[32m    396\u001b[39m \u001b[33;03m    \"\"\"\u001b[39;00m\n\u001b[32m--> \u001b[39m\u001b[32m397\u001b[39m     \u001b[38;5;28;01mreturn\u001b[39;00m \u001b[38;5;28;43mmax\u001b[39;49m\u001b[43m(\u001b[49m\n\u001b[32m    398\u001b[39m \u001b[43m        \u001b[49m\u001b[43msingle_meteor_score\u001b[49m\u001b[43m(\u001b[49m\n\u001b[32m    399\u001b[39m \u001b[43m            \u001b[49m\u001b[43mreference\u001b[49m\u001b[43m,\u001b[49m\n\u001b[32m    400\u001b[39m \u001b[43m            \u001b[49m\u001b[43mhypothesis\u001b[49m\u001b[43m,\u001b[49m\n\u001b[32m    401\u001b[39m \u001b[43m            \u001b[49m\u001b[43mpreprocess\u001b[49m\u001b[43m=\u001b[49m\u001b[43mpreprocess\u001b[49m\u001b[43m,\u001b[49m\n\u001b[32m    402\u001b[39m \u001b[43m            \u001b[49m\u001b[43mstemmer\u001b[49m\u001b[43m=\u001b[49m\u001b[43mstemmer\u001b[49m\u001b[43m,\u001b[49m\n\u001b[32m    403\u001b[39m \u001b[43m            \u001b[49m\u001b[43mwordnet\u001b[49m\u001b[43m=\u001b[49m\u001b[43mwordnet\u001b[49m\u001b[43m,\u001b[49m\n\u001b[32m    404\u001b[39m \u001b[43m            \u001b[49m\u001b[43malpha\u001b[49m\u001b[43m=\u001b[49m\u001b[43malpha\u001b[49m\u001b[43m,\u001b[49m\n\u001b[32m    405\u001b[39m \u001b[43m            \u001b[49m\u001b[43mbeta\u001b[49m\u001b[43m=\u001b[49m\u001b[43mbeta\u001b[49m\u001b[43m,\u001b[49m\n\u001b[32m    406\u001b[39m \u001b[43m            \u001b[49m\u001b[43mgamma\u001b[49m\u001b[43m=\u001b[49m\u001b[43mgamma\u001b[49m\u001b[43m,\u001b[49m\n\u001b[32m    407\u001b[39m \u001b[43m        \u001b[49m\u001b[43m)\u001b[49m\n\u001b[32m    408\u001b[39m \u001b[43m        \u001b[49m\u001b[38;5;28;43;01mfor\u001b[39;49;00m\u001b[43m \u001b[49m\u001b[43mreference\u001b[49m\u001b[43m \u001b[49m\u001b[38;5;129;43;01min\u001b[39;49;00m\u001b[43m \u001b[49m\u001b[43mreferences\u001b[49m\n\u001b[32m    409\u001b[39m \u001b[43m    \u001b[49m\u001b[43m)\u001b[49m\n",
      "\u001b[36mFile \u001b[39m\u001b[32m~/Desktop/financial-news-summarizer/venv/lib/python3.11/site-packages/nltk/translate/meteor_score.py:398\u001b[39m, in \u001b[36m<genexpr>\u001b[39m\u001b[34m(.0)\u001b[39m\n\u001b[32m    347\u001b[39m \u001b[38;5;28;01mdef\u001b[39;00m\u001b[38;5;250m \u001b[39m\u001b[34mmeteor_score\u001b[39m(\n\u001b[32m    348\u001b[39m     references: Iterable[Iterable[\u001b[38;5;28mstr\u001b[39m]],\n\u001b[32m    349\u001b[39m     hypothesis: Iterable[\u001b[38;5;28mstr\u001b[39m],\n\u001b[32m   (...)\u001b[39m\u001b[32m    355\u001b[39m     gamma: \u001b[38;5;28mfloat\u001b[39m = \u001b[32m0.5\u001b[39m,\n\u001b[32m    356\u001b[39m ) -> \u001b[38;5;28mfloat\u001b[39m:\n\u001b[32m    357\u001b[39m \u001b[38;5;250m    \u001b[39m\u001b[33;03m\"\"\"\u001b[39;00m\n\u001b[32m    358\u001b[39m \u001b[33;03m    Calculates METEOR score for hypothesis with multiple references as\u001b[39;00m\n\u001b[32m    359\u001b[39m \u001b[33;03m    described in \"Meteor: An Automatic Metric for MT Evaluation with\u001b[39;00m\n\u001b[32m   (...)\u001b[39m\u001b[32m    395\u001b[39m \u001b[33;03m    :return: The sentence-level METEOR score.\u001b[39;00m\n\u001b[32m    396\u001b[39m \u001b[33;03m    \"\"\"\u001b[39;00m\n\u001b[32m    397\u001b[39m     \u001b[38;5;28;01mreturn\u001b[39;00m \u001b[38;5;28mmax\u001b[39m(\n\u001b[32m--> \u001b[39m\u001b[32m398\u001b[39m         \u001b[43msingle_meteor_score\u001b[49m\u001b[43m(\u001b[49m\n\u001b[32m    399\u001b[39m \u001b[43m            \u001b[49m\u001b[43mreference\u001b[49m\u001b[43m,\u001b[49m\n\u001b[32m    400\u001b[39m \u001b[43m            \u001b[49m\u001b[43mhypothesis\u001b[49m\u001b[43m,\u001b[49m\n\u001b[32m    401\u001b[39m \u001b[43m            \u001b[49m\u001b[43mpreprocess\u001b[49m\u001b[43m=\u001b[49m\u001b[43mpreprocess\u001b[49m\u001b[43m,\u001b[49m\n\u001b[32m    402\u001b[39m \u001b[43m            \u001b[49m\u001b[43mstemmer\u001b[49m\u001b[43m=\u001b[49m\u001b[43mstemmer\u001b[49m\u001b[43m,\u001b[49m\n\u001b[32m    403\u001b[39m \u001b[43m            \u001b[49m\u001b[43mwordnet\u001b[49m\u001b[43m=\u001b[49m\u001b[43mwordnet\u001b[49m\u001b[43m,\u001b[49m\n\u001b[32m    404\u001b[39m \u001b[43m            \u001b[49m\u001b[43malpha\u001b[49m\u001b[43m=\u001b[49m\u001b[43malpha\u001b[49m\u001b[43m,\u001b[49m\n\u001b[32m    405\u001b[39m \u001b[43m            \u001b[49m\u001b[43mbeta\u001b[49m\u001b[43m=\u001b[49m\u001b[43mbeta\u001b[49m\u001b[43m,\u001b[49m\n\u001b[32m    406\u001b[39m \u001b[43m            \u001b[49m\u001b[43mgamma\u001b[49m\u001b[43m=\u001b[49m\u001b[43mgamma\u001b[49m\u001b[43m,\u001b[49m\n\u001b[32m    407\u001b[39m \u001b[43m        \u001b[49m\u001b[43m)\u001b[49m\n\u001b[32m    408\u001b[39m         \u001b[38;5;28;01mfor\u001b[39;00m reference \u001b[38;5;129;01min\u001b[39;00m references\n\u001b[32m    409\u001b[39m     )\n",
      "\u001b[36mFile \u001b[39m\u001b[32m~/Desktop/financial-news-summarizer/venv/lib/python3.11/site-packages/nltk/translate/meteor_score.py:326\u001b[39m, in \u001b[36msingle_meteor_score\u001b[39m\u001b[34m(reference, hypothesis, preprocess, stemmer, wordnet, alpha, beta, gamma)\u001b[39m\n\u001b[32m    282\u001b[39m \u001b[38;5;28;01mdef\u001b[39;00m\u001b[38;5;250m \u001b[39m\u001b[34msingle_meteor_score\u001b[39m(\n\u001b[32m    283\u001b[39m     reference: Iterable[\u001b[38;5;28mstr\u001b[39m],\n\u001b[32m    284\u001b[39m     hypothesis: Iterable[\u001b[38;5;28mstr\u001b[39m],\n\u001b[32m   (...)\u001b[39m\u001b[32m    290\u001b[39m     gamma: \u001b[38;5;28mfloat\u001b[39m = \u001b[32m0.5\u001b[39m,\n\u001b[32m    291\u001b[39m ) -> \u001b[38;5;28mfloat\u001b[39m:\n\u001b[32m    292\u001b[39m \u001b[38;5;250m    \u001b[39m\u001b[33;03m\"\"\"\u001b[39;00m\n\u001b[32m    293\u001b[39m \u001b[33;03m    Calculates METEOR score for single hypothesis and reference as per\u001b[39;00m\n\u001b[32m    294\u001b[39m \u001b[33;03m    \"Meteor: An Automatic Metric for MT Evaluation with HighLevels of\u001b[39;00m\n\u001b[32m   (...)\u001b[39m\u001b[32m    324\u001b[39m \u001b[33;03m    :return: The sentence-level METEOR score.\u001b[39;00m\n\u001b[32m    325\u001b[39m \u001b[33;03m    \"\"\"\u001b[39;00m\n\u001b[32m--> \u001b[39m\u001b[32m326\u001b[39m     enum_hypothesis, enum_reference = \u001b[43m_generate_enums\u001b[49m\u001b[43m(\u001b[49m\n\u001b[32m    327\u001b[39m \u001b[43m        \u001b[49m\u001b[43mhypothesis\u001b[49m\u001b[43m,\u001b[49m\u001b[43m \u001b[49m\u001b[43mreference\u001b[49m\u001b[43m,\u001b[49m\u001b[43m \u001b[49m\u001b[43mpreprocess\u001b[49m\u001b[43m=\u001b[49m\u001b[43mpreprocess\u001b[49m\n\u001b[32m    328\u001b[39m \u001b[43m    \u001b[49m\u001b[43m)\u001b[49m\n\u001b[32m    329\u001b[39m     translation_length = \u001b[38;5;28mlen\u001b[39m(enum_hypothesis)\n\u001b[32m    330\u001b[39m     reference_length = \u001b[38;5;28mlen\u001b[39m(enum_reference)\n",
      "\u001b[36mFile \u001b[39m\u001b[32m~/Desktop/financial-news-summarizer/venv/lib/python3.11/site-packages/nltk/translate/meteor_score.py:38\u001b[39m, in \u001b[36m_generate_enums\u001b[39m\u001b[34m(hypothesis, reference, preprocess)\u001b[39m\n\u001b[32m     33\u001b[39m     \u001b[38;5;28;01mraise\u001b[39;00m \u001b[38;5;167;01mTypeError\u001b[39;00m(\n\u001b[32m     34\u001b[39m         \u001b[33mf\u001b[39m\u001b[33m'\u001b[39m\u001b[33m\"\u001b[39m\u001b[33mhypothesis\u001b[39m\u001b[33m\"\u001b[39m\u001b[33m expects pre-tokenized hypothesis (Iterable[str]): \u001b[39m\u001b[38;5;132;01m{\u001b[39;00mhypothesis\u001b[38;5;132;01m}\u001b[39;00m\u001b[33m'\u001b[39m\n\u001b[32m     35\u001b[39m     )\n\u001b[32m     37\u001b[39m \u001b[38;5;28;01mif\u001b[39;00m \u001b[38;5;28misinstance\u001b[39m(reference, \u001b[38;5;28mstr\u001b[39m):\n\u001b[32m---> \u001b[39m\u001b[32m38\u001b[39m     \u001b[38;5;28;01mraise\u001b[39;00m \u001b[38;5;167;01mTypeError\u001b[39;00m(\n\u001b[32m     39\u001b[39m         \u001b[33mf\u001b[39m\u001b[33m'\u001b[39m\u001b[33m\"\u001b[39m\u001b[33mreference\u001b[39m\u001b[33m\"\u001b[39m\u001b[33m expects pre-tokenized reference (Iterable[str]): \u001b[39m\u001b[38;5;132;01m{\u001b[39;00mreference\u001b[38;5;132;01m}\u001b[39;00m\u001b[33m'\u001b[39m\n\u001b[32m     40\u001b[39m     )\n\u001b[32m     42\u001b[39m enum_hypothesis_list = \u001b[38;5;28mlist\u001b[39m(\u001b[38;5;28menumerate\u001b[39m(\u001b[38;5;28mmap\u001b[39m(preprocess, hypothesis)))\n\u001b[32m     43\u001b[39m enum_reference_list = \u001b[38;5;28mlist\u001b[39m(\u001b[38;5;28menumerate\u001b[39m(\u001b[38;5;28mmap\u001b[39m(preprocess, reference)))\n",
      "\u001b[31mTypeError\u001b[39m: \"reference\" expects pre-tokenized reference (Iterable[str]): Headline: Morgan Stanley Cuts Apple Price Target Amid Demand Concerns\n\nCore Essence: Morgan Stanley lowered its price target for Apple (AAPL) to $236 from $253, citing weak smartphone demand in China, marking the third price cut for the company this week.\n\nKey Points:\n- The Event: Morgan Stanley announced a price target reduction for Apple, reflecting concerns over a slowing smartphone market in China.\n- Financial Metrics: Morgan Stanley's new price target for Apple is $236, down from $253. Apple's shares dropped over 2% following this announcement.\n- Market Reaction: Apple shares fell more than 2% amid the news of the price cut and overall market trends.\n- Key Quote or Context: Morgan Stanley noted that rising average selling prices and improved smartphone quality are lengthening replacement cycles, negatively impacting demand for new devices.\n- Outlook/Next Steps: Morgan Stanley indicated that revenues from wearables and services could mitigate the negative impact of declining iPhone demand."
     ]
    }
   ],
   "source": [
    "from nltk.translate.meteor_score import meteor_score\n",
    "from tqdm.notebook import tqdm\n",
    "\n",
    "zero_shot_scores = []\n",
    "few_shot_scores = []\n",
    "\n",
    "for pred, ref in tqdm(zip(predictions_zero_shot, ground_truths), total=len(predictions_zero_shot)):\n",
    "    meteor_score_zero = meteor_score([ref], [pred])\n",
    "    zero_shot_scores.append(meteor_score_zero)\n",
    "\n",
    "for pred, ref in tqdm(zip(predictions_few_shot, ground_truths), total=len(predictions_few_shot)):\n",
    "    meteor_score_few = meteor_score([ref], [pred])\n",
    "    few_shot_scores.append(meteor_score_few)\n",
    "\n",
    "print(\"Zero-shot:\", sum(zero_shot_scores) / len(zero_shot_scores))\n",
    "print(\"Few-shot:\", sum(few_shot_scores) / len(few_shot_scores))\n"
   ]
  },
  {
   "cell_type": "markdown",
   "metadata": {},
   "source": [
    "Calculating the METEOR metric didn’t work out due to tight deadlines. As a next step, we could try computing a QAG Score or G-Eval."
   ]
  }
 ],
 "metadata": {
  "kernelspec": {
   "display_name": "venv",
   "language": "python",
   "name": "python3"
  },
  "language_info": {
   "codemirror_mode": {
    "name": "ipython",
    "version": 3
   },
   "file_extension": ".py",
   "mimetype": "text/x-python",
   "name": "python",
   "nbconvert_exporter": "python",
   "pygments_lexer": "ipython3",
   "version": "3.11.11"
  }
 },
 "nbformat": 4,
 "nbformat_minor": 2
}
